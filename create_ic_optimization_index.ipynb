{
 "cells": [
  {
   "cell_type": "markdown",
   "metadata": {},
   "source": [
    "## Create the US Credit Card Interchange Index Table"
   ]
  },
  {
   "cell_type": "code",
   "execution_count": 35,
   "metadata": {
    "collapsed": true
   },
   "outputs": [],
   "source": [
    "import glob #import the glob library to detect a certainly file type within a given path\n",
    "import pandas as pd #import the pandas libraries to arrange the data"
   ]
  },
  {
   "cell_type": "code",
   "execution_count": 36,
   "metadata": {
    "collapsed": true
   },
   "outputs": [],
   "source": [
    "path =r'G:\\Pricing\\IC Opt project\\ic_generalized_tables\\us' #identify the path needed for the glob library\n",
    "filenames = glob.glob(path + \"/*.csv\") #instruct the glob object to locate all csv repositories"
   ]
  },
  {
   "cell_type": "code",
   "execution_count": 37,
   "metadata": {
    "collapsed": false
   },
   "outputs": [],
   "source": [
    "g_tbls=[] #create a new list\n",
    "for filename in filenames: #for every file in the directory add to the list\n",
    "    g_tbls.append(pd.read_csv(filename))"
   ]
  },
  {
   "cell_type": "code",
   "execution_count": 38,
   "metadata": {
    "collapsed": false
   },
   "outputs": [],
   "source": [
    "#combine all of the generalized table csvs created from database data and IC published tables\n",
    "g_tbls= pd.concat(g_tbls, ignore_index=True) "
   ]
  },
  {
   "cell_type": "code",
   "execution_count": 39,
   "metadata": {
    "collapsed": false
   },
   "outputs": [],
   "source": [
    "# the IC tables have data that was validated and invalidate via a manual review, \n",
    "#we only want valide for the creation of our index table\n",
    "g_tbls=g_tbls[(g_tbls['VALID_RATE']=='Yes')] "
   ]
  },
  {
   "cell_type": "code",
   "execution_count": 40,
   "metadata": {
    "collapsed": false
   },
   "outputs": [],
   "source": [
    "#The original table has more columns, many were required just in the creation process\n",
    "#for the development of an index table not all are needed and are therefore removed here\n",
    "#Only those columns required have referenced below\n",
    "g_tbls=g_tbls[['CARD_SCHEME'\n",
    "        ,'CONS_CORP_BIN'\n",
    "        ,'DEBIT_CREDIT'\n",
    "        ,'IC_PERC_RT'\n",
    "        ,'INTERCHANGE_FLAT_RATE'\n",
    "        ,'INTERCHANGE_RATE'\n",
    "        ,'LEVEL'\n",
    "        ,'PROGRAM_NAME']]"
   ]
  },
  {
   "cell_type": "markdown",
   "metadata": {},
   "source": [
    "## Create a Generalized Long Descriptor Column\n",
    "The long generalized descriptor will be used to provide a full description of the IC. It complements the short descriptor that was create for ease of descriptor identification, joins, and interpreation on a larger scale "
   ]
  },
  {
   "cell_type": "code",
   "execution_count": 41,
   "metadata": {
    "collapsed": false
   },
   "outputs": [],
   "source": [
    "#Create a new column named Generalized Descriptor through the combination of multiple attributes spaced by underscores\n",
    "g_tbls['GENERALIZED_DESCRIPTOR']=\\\n",
    "g_tbls['CARD_SCHEME']+\"_\"+\\\n",
    "g_tbls['CONS_CORP_BIN']+\"_\"+\\\n",
    "g_tbls['DEBIT_CREDIT']+\"_\"+\\\n",
    "g_tbls['LEVEL']+\"_\"+\\\n",
    "g_tbls['PROGRAM_NAME']"
   ]
  },
  {
   "cell_type": "code",
   "execution_count": 42,
   "metadata": {
    "collapsed": false
   },
   "outputs": [],
   "source": [
    "# g_tbls.info() - used during script development"
   ]
  },
  {
   "cell_type": "markdown",
   "metadata": {},
   "source": [
    "## Create The Program Level Numeric Reference Table"
   ]
  },
  {
   "cell_type": "code",
   "execution_count": 43,
   "metadata": {
    "collapsed": false
   },
   "outputs": [
    {
     "name": "stderr",
     "output_type": "stream",
     "text": [
      "C:\\Users\\djohnson\\AppData\\Local\\Continuum\\Anaconda2\\lib\\site-packages\\ipykernel\\__main__.py:2: FutureWarning: sort is deprecated, use sort_values(inplace=True) for INPLACE sorting\n",
      "  from ipykernel import kernelapp as app\n"
     ]
    }
   ],
   "source": [
    "g_levels_working=g_tbls['LEVEL'].drop_duplicates() #remove duplicates data...\n",
    "g_levels_working.sort('LEVEL') #sort the data alphabetically, this is how the data will be organized...\n",
    "g_levels_working=pd.DataFrame(g_levels_working) #establish the filtered data as its own dataframe...\n",
    "g_levels_working=g_levels_working.reset_index() #reset the index to allow for concat with numeric ref tbale...\n",
    "g_levels_working=g_levels_working['LEVEL'] #only select the LEVEL column and remove the Index column...\n"
   ]
  },
  {
   "cell_type": "code",
   "execution_count": 44,
   "metadata": {
    "collapsed": false
   },
   "outputs": [],
   "source": [
    "#g_levels_working.head() # provide a sample of the list - used during script development"
   ]
  },
  {
   "cell_type": "code",
   "execution_count": 45,
   "metadata": {
    "collapsed": false
   },
   "outputs": [],
   "source": [
    "g=[] #Create a numeric list as an index against the level numeric reference table\n",
    "for i in range (1, len(g_levels_working)+1):\n",
    "    g.append(i)"
   ]
  },
  {
   "cell_type": "code",
   "execution_count": 46,
   "metadata": {
    "collapsed": false
   },
   "outputs": [],
   "source": [
    "g=pd.DataFrame.from_dict(g)\n",
    "#g.head() #provided a sample - used during script development"
   ]
  },
  {
   "cell_type": "code",
   "execution_count": 47,
   "metadata": {
    "collapsed": false
   },
   "outputs": [],
   "source": [
    "g_levels=pd.concat([g_levels_working,g],axis=1)"
   ]
  },
  {
   "cell_type": "code",
   "execution_count": 48,
   "metadata": {
    "collapsed": false
   },
   "outputs": [],
   "source": [
    "g_levels.rename(columns={0: 'LEVEL_INDEX'}, inplace=True)"
   ]
  },
  {
   "cell_type": "code",
   "execution_count": 49,
   "metadata": {
    "collapsed": false
   },
   "outputs": [],
   "source": [
    "# g_levels.head() # provide a sample of the list - used during script development"
   ]
  },
  {
   "cell_type": "code",
   "execution_count": 50,
   "metadata": {
    "collapsed": false
   },
   "outputs": [],
   "source": [
    "g_levels['LEVEL_INDEX']=g_levels['LEVEL_INDEX'].astype(str)"
   ]
  },
  {
   "cell_type": "markdown",
   "metadata": {
    "collapsed": true
   },
   "source": [
    "## Create The Program Name Numeric Reference Table"
   ]
  },
  {
   "cell_type": "code",
   "execution_count": 51,
   "metadata": {
    "collapsed": false
   },
   "outputs": [
    {
     "name": "stderr",
     "output_type": "stream",
     "text": [
      "C:\\Users\\djohnson\\AppData\\Local\\Continuum\\Anaconda2\\lib\\site-packages\\ipykernel\\__main__.py:2: FutureWarning: sort is deprecated, use sort_values(inplace=True) for INPLACE sorting\n",
      "  from ipykernel import kernelapp as app\n"
     ]
    }
   ],
   "source": [
    "g_program_working=g_tbls['PROGRAM_NAME'].drop_duplicates() #remove duplicates data...\n",
    "g_program_working.sort('PROGRAM_NAME') #sort the data alphabetically, this is how the data will be organized...\n",
    "g_program_working=pd.DataFrame(g_program_working) #establish the filtered data as its own dataframe...\n",
    "g_program_working=g_program_working.reset_index() #reset the index to allow for concat with numeric ref tbale...\n",
    "g_program_working=g_program_working['PROGRAM_NAME'] #only select the LEVEL column and remove the Index column..."
   ]
  },
  {
   "cell_type": "code",
   "execution_count": 52,
   "metadata": {
    "collapsed": false
   },
   "outputs": [],
   "source": [
    "# g_program_working.head() # provide a sample of the list - used during script development"
   ]
  },
  {
   "cell_type": "code",
   "execution_count": 53,
   "metadata": {
    "collapsed": false
   },
   "outputs": [],
   "source": [
    "g2=[] #Create a numeric list as an index against the program numeric reference table\n",
    "for i in range (1, len(g_program_working)+1):\n",
    "    g2.append(i)"
   ]
  },
  {
   "cell_type": "code",
   "execution_count": 54,
   "metadata": {
    "collapsed": false
   },
   "outputs": [],
   "source": [
    "g2=pd.DataFrame.from_dict(g2)\n",
    "# g2.head() - used during script development"
   ]
  },
  {
   "cell_type": "code",
   "execution_count": 55,
   "metadata": {
    "collapsed": true
   },
   "outputs": [],
   "source": [
    "g_program=pd.concat([g_program_working,g2],axis=1)"
   ]
  },
  {
   "cell_type": "code",
   "execution_count": 56,
   "metadata": {
    "collapsed": true
   },
   "outputs": [],
   "source": [
    "g_program.rename(columns={0: 'PROGRAM_INDEX'}, inplace=True)"
   ]
  },
  {
   "cell_type": "code",
   "execution_count": 57,
   "metadata": {
    "collapsed": false
   },
   "outputs": [],
   "source": [
    "# g_program.head() # provide a sample of the list - used during script development"
   ]
  },
  {
   "cell_type": "code",
   "execution_count": 58,
   "metadata": {
    "collapsed": true
   },
   "outputs": [],
   "source": [
    "g_program['PROGRAM_INDEX']=g_program['PROGRAM_INDEX'].astype(str)"
   ]
  },
  {
   "cell_type": "code",
   "execution_count": 59,
   "metadata": {
    "collapsed": false
   },
   "outputs": [],
   "source": [
    "g_tbls1=pd.merge(g_tbls,g_levels,on=['LEVEL'],how='left')\n",
    "g_tbls2=pd.merge(g_tbls1,g_program,on=['PROGRAM_NAME'],how='left')"
   ]
  },
  {
   "cell_type": "code",
   "execution_count": 60,
   "metadata": {
    "collapsed": false
   },
   "outputs": [],
   "source": [
    "g_tbls2.rename(columns={'LEVEL_INDEX_x': 'LEVEL_INDEX'}, inplace=True)"
   ]
  },
  {
   "cell_type": "code",
   "execution_count": 61,
   "metadata": {
    "collapsed": false
   },
   "outputs": [],
   "source": [
    "#g_tbls2 # provide a sample of the list - used during script development"
   ]
  },
  {
   "cell_type": "code",
   "execution_count": 62,
   "metadata": {
    "collapsed": false
   },
   "outputs": [],
   "source": [
    "#g_tbls2=g_tbls2.drop('LEVEL_INDEX_y',axis=1) #remove the second creation of the LEVEL_INDEX column from the merge program and level merges"
   ]
  },
  {
   "cell_type": "markdown",
   "metadata": {},
   "source": [
    "## Create The Short Generalized Descriptor Column"
   ]
  },
  {
   "cell_type": "code",
   "execution_count": 63,
   "metadata": {
    "collapsed": false
   },
   "outputs": [],
   "source": [
    "#give the first three letters of any string data and append to the numeric references to create a comprehensive reference table\n",
    "g_tbls2['GENERALIZED_DESCRIPTOR_CODE']=\\\n",
    "g_tbls2['CARD_SCHEME'].str[:1]+\\\n",
    "g_tbls2['CONS_CORP_BIN'].str[:3]+\\\n",
    "g_tbls2['DEBIT_CREDIT'].str[:2]+\\\n",
    "\"-\"+\\\n",
    "g_tbls2['LEVEL_INDEX']+\\\n",
    "\"-\"+\\\n",
    "g_tbls2['PROGRAM_INDEX']"
   ]
  },
  {
   "cell_type": "code",
   "execution_count": 64,
   "metadata": {
    "collapsed": false
   },
   "outputs": [],
   "source": [
    "#formulate the final output\n",
    "g_tbls_final=g_tbls2[['CARD_SCHEME'\n",
    "         ,'CONS_CORP_BIN'\n",
    "         ,'DEBIT_CREDIT'\n",
    "         ,'IC_PERC_RT'\n",
    "         ,'INTERCHANGE_FLAT_RATE'\n",
    "         ,'INTERCHANGE_RATE'\n",
    "         ,'LEVEL'\n",
    "         ,'PROGRAM_NAME'\n",
    "         ,'LEVEL_INDEX'\n",
    "         ,'PROGRAM_INDEX'\n",
    "         ,'GENERALIZED_DESCRIPTOR'\n",
    "         ,'GENERALIZED_DESCRIPTOR_CODE']]"
   ]
  },
  {
   "cell_type": "code",
   "execution_count": 65,
   "metadata": {
    "collapsed": false
   },
   "outputs": [],
   "source": [
    "#g_tbls_final # provide a sample of the list - used during script development"
   ]
  },
  {
   "cell_type": "code",
   "execution_count": 66,
   "metadata": {
    "collapsed": false
   },
   "outputs": [],
   "source": [
    "g_tbls_final.to_csv('G:\\Pricing\\IC Opt project\\ic_generalized_tables\\us\\us_gen_tbl.csv')#export the data to shared folder for consumption/use"
   ]
  }
 ],
 "metadata": {
  "anaconda-cloud": {},
  "kernelspec": {
   "display_name": "Python [default]",
   "language": "python",
   "name": "python2"
  },
  "language_info": {
   "codemirror_mode": {
    "name": "ipython",
    "version": 2
   },
   "file_extension": ".py",
   "mimetype": "text/x-python",
   "name": "python",
   "nbconvert_exporter": "python",
   "pygments_lexer": "ipython2",
   "version": "2.7.12"
  }
 },
 "nbformat": 4,
 "nbformat_minor": 1
}
